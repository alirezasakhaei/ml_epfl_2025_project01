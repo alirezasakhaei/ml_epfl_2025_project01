{
 "cells": [
  {
   "cell_type": "code",
   "execution_count": null,
   "id": "d6fd5e51",
   "metadata": {
    "vscode": {
     "languageId": "plaintext"
    }
   },
   "outputs": [],
   "source": []
  }
 ],
 "metadata": {
  "language_info": {
   "name": "python"
  }
 },
 "nbformat": 4,
 "nbformat_minor": 5
}
